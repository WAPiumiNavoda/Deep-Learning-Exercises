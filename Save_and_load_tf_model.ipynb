{
  "nbformat": 4,
  "nbformat_minor": 0,
  "metadata": {
    "colab": {
      "provenance": [],
      "authorship_tag": "ABX9TyNPDdTN2PbYiE3kPpgfkW4O",
      "include_colab_link": true
    },
    "kernelspec": {
      "name": "python3",
      "display_name": "Python 3"
    },
    "language_info": {
      "name": "python"
    }
  },
  "cells": [
    {
      "cell_type": "markdown",
      "metadata": {
        "id": "view-in-github",
        "colab_type": "text"
      },
      "source": [
        "<a href=\"https://colab.research.google.com/github/WAPiumiNavoda/Deep-Learning-Exercises/blob/main/Save_and_load_tf_model.ipynb\" target=\"_parent\"><img src=\"https://colab.research.google.com/assets/colab-badge.svg\" alt=\"Open In Colab\"/></a>"
      ]
    },
    {
      "cell_type": "code",
      "execution_count": 2,
      "metadata": {
        "id": "ZIBDkCQaTQ-O"
      },
      "outputs": [],
      "source": [
        "import tensorflow as  tf"
      ]
    },
    {
      "cell_type": "code",
      "source": [
        "X = tf.range(0, 100, 2)\n",
        "X"
      ],
      "metadata": {
        "colab": {
          "base_uri": "https://localhost:8080/"
        },
        "id": "P4usQH8lTdPX",
        "outputId": "012dc88e-1570-4326-e0c4-1f3e8439caca"
      },
      "execution_count": 4,
      "outputs": [
        {
          "output_type": "execute_result",
          "data": {
            "text/plain": [
              "<tf.Tensor: shape=(50,), dtype=int32, numpy=\n",
              "array([ 0,  2,  4,  6,  8, 10, 12, 14, 16, 18, 20, 22, 24, 26, 28, 30, 32,\n",
              "       34, 36, 38, 40, 42, 44, 46, 48, 50, 52, 54, 56, 58, 60, 62, 64, 66,\n",
              "       68, 70, 72, 74, 76, 78, 80, 82, 84, 86, 88, 90, 92, 94, 96, 98],\n",
              "      dtype=int32)>"
            ]
          },
          "metadata": {},
          "execution_count": 4
        }
      ]
    },
    {
      "cell_type": "code",
      "source": [
        "y = 2*X + 3\n",
        "y"
      ],
      "metadata": {
        "colab": {
          "base_uri": "https://localhost:8080/"
        },
        "id": "nIRR7DUnbrUH",
        "outputId": "de6ee527-1d2e-49d8-c6f8-a920d91e2728"
      },
      "execution_count": 5,
      "outputs": [
        {
          "output_type": "execute_result",
          "data": {
            "text/plain": [
              "<tf.Tensor: shape=(50,), dtype=int32, numpy=\n",
              "array([  3,   7,  11,  15,  19,  23,  27,  31,  35,  39,  43,  47,  51,\n",
              "        55,  59,  63,  67,  71,  75,  79,  83,  87,  91,  95,  99, 103,\n",
              "       107, 111, 115, 119, 123, 127, 131, 135, 139, 143, 147, 151, 155,\n",
              "       159, 163, 167, 171, 175, 179, 183, 187, 191, 195, 199], dtype=int32)>"
            ]
          },
          "metadata": {},
          "execution_count": 5
        }
      ]
    },
    {
      "cell_type": "code",
      "source": [
        "import matplotlib.pyplot as plt\n",
        "plt.scatter(X,y)\n",
        "plt.show()"
      ],
      "metadata": {
        "colab": {
          "base_uri": "https://localhost:8080/",
          "height": 430
        },
        "id": "GAHajCD9b2m4",
        "outputId": "35cf9a37-0717-47c6-9e11-b31f6c3b952b"
      },
      "execution_count": 6,
      "outputs": [
        {
          "output_type": "display_data",
          "data": {
            "text/plain": [
              "<Figure size 640x480 with 1 Axes>"
            ],
            "image/png": "[encoded data removed]"
          },
          "metadata": {}
        }
      ]
    },
    {
      "cell_type": "markdown",
      "source": [
        "### **Model Bilding**"
      ],
      "metadata": {
        "id": "xuZDv94XcNXQ"
      }
    },
    {
      "cell_type": "code",
      "source": [
        "#Create model\n",
        "model = tf.keras.Sequential([\n",
        "    tf.keras.layers.Dense(20, input_shape = (1,)),\n",
        "    tf.keras.layers.Dense(1)\n",
        "])\n",
        "\n",
        "#Compile the model\n",
        "model.compile(loss = tf.keras.losses.mae,\n",
        "              optimizer = tf.keras.optimizers.Adam(lr = 0.05),\n",
        "              metrics = ['mae']\n",
        "              )\n",
        "\n",
        "#Train the model\n",
        "model.fit(X, y, epochs = 150)\n"
      ],
      "metadata": {
        "colab": {
          "base_uri": "https://localhost:8080/"
        },
        "id": "Wf2ve6iRcQc9",
        "outputId": "0d793665-82ae-42d1-924d-149e9ef6c081"
      },
      "execution_count": 43,
      "outputs": [
        {
          "output_type": "stream",
          "name": "stderr",
          "text": [
            "WARNING:absl:`lr` is deprecated in Keras optimizer, please use `learning_rate` or use the legacy optimizer, e.g.,tf.keras.optimizers.legacy.Adam.\n"
          ]
        },
        {
          "output_type": "stream",
          "name": "stdout",
          "text": [
            "Epoch 1/150\n",
            "2/2 [==============================] - 1s 9ms/step - loss: 106.5259 - mae: 106.5259\n",
            "Epoch 2/150\n",
            "2/2 [==============================] - 0s 9ms/step - loss: 105.5196 - mae: 105.5196\n",
            "Epoch 3/150\n",
            "2/2 [==============================] - 0s 9ms/step - loss: 104.4962 - mae: 104.4962\n",
            "Epoch 4/150\n",
            "2/2 [==============================] - 0s 9ms/step - loss: 103.4870 - mae: 103.4870\n",
            "Epoch 5/150\n",
            "2/2 [==============================] - 0s 11ms/step - loss: 102.5013 - mae: 102.5013\n",
            "Epoch 6/150\n",
            "2/2 [==============================] - 0s 9ms/step - loss: 101.4797 - mae: 101.4797\n",
            "Epoch 7/150\n",
            "2/2 [==============================] - 0s 9ms/step - loss: 100.4614 - mae: 100.4614\n",
            "Epoch 8/150\n",
            "2/2 [==============================] - 0s 10ms/step - loss: 99.4451 - mae: 99.4451\n",
            "Epoch 9/150\n",
            "2/2 [==============================] - 0s 10ms/step - loss: 98.4369 - mae: 98.4369\n",
            "Epoch 10/150\n",
            "2/2 [==============================] - 0s 9ms/step - loss: 97.4482 - mae: 97.4482\n",
            "Epoch 11/150\n",
            "2/2 [==============================] - 0s 8ms/step - loss: 96.4137 - mae: 96.4137\n",
            "Epoch 12/150\n",
            "2/2 [==============================] - 0s 8ms/step - loss: 95.4049 - mae: 95.4049\n",
            "Epoch 13/150\n",
            "2/2 [==============================] - 0s 9ms/step - loss: 94.3636 - mae: 94.3636\n",
            "Epoch 14/150\n",
            "2/2 [==============================] - 0s 9ms/step - loss: 93.3530 - mae: 93.3530\n",
            "Epoch 15/150\n",
            "2/2 [==============================] - 0s 8ms/step - loss: 92.3183 - mae: 92.3183\n",
            "Epoch 16/150\n",
            "2/2 [==============================] - 0s 9ms/step - loss: 91.3287 - mae: 91.3287\n",
            "Epoch 17/150\n",
            "2/2 [==============================] - 0s 10ms/step - loss: 90.2662 - mae: 90.2662\n",
            "Epoch 18/150\n",
            "2/2 [==============================] - 0s 11ms/step - loss: 89.2351 - mae: 89.2351\n",
            "Epoch 19/150\n",
            "2/2 [==============================] - 0s 10ms/step - loss: 88.2303 - mae: 88.2303\n",
            "Epoch 20/150\n",
            "2/2 [==============================] - 0s 10ms/step - loss: 87.1304 - mae: 87.1304\n",
            "Epoch 21/150\n",
            "2/2 [==============================] - 0s 8ms/step - loss: 86.1284 - mae: 86.1284\n",
            "Epoch 22/150\n",
            "2/2 [==============================] - 0s 11ms/step - loss: 85.0723 - mae: 85.0723\n",
            "Epoch 23/150\n",
            "2/2 [==============================] - 0s 10ms/step - loss: 83.9935 - mae: 83.9935\n",
            "Epoch 24/150\n",
            "2/2 [==============================] - 0s 15ms/step - loss: 82.9517 - mae: 82.9517\n",
            "Epoch 25/150\n",
            "2/2 [==============================] - 0s 10ms/step - loss: 81.9186 - mae: 81.9186\n",
            "Epoch 26/150\n",
            "2/2 [==============================] - 0s 11ms/step - loss: 80.7846 - mae: 80.7846\n",
            "Epoch 27/150\n",
            "2/2 [==============================] - 0s 9ms/step - loss: 79.7312 - mae: 79.7312\n",
            "Epoch 28/150\n",
            "2/2 [==============================] - 0s 9ms/step - loss: 78.6642 - mae: 78.6642\n",
            "Epoch 29/150\n",
            "2/2 [==============================] - 0s 10ms/step - loss: 77.5679 - mae: 77.5679\n",
            "Epoch 30/150\n",
            "2/2 [==============================] - 0s 11ms/step - loss: 76.4476 - mae: 76.4476\n",
            "Epoch 31/150\n",
            "2/2 [==============================] - 0s 11ms/step - loss: 75.3946 - mae: 75.3946\n",
            "Epoch 32/150\n",
            "2/2 [==============================] - 0s 9ms/step - loss: 74.2447 - mae: 74.2447\n",
            "Epoch 33/150\n",
            "2/2 [==============================] - 0s 9ms/step - loss: 73.1682 - mae: 73.1682\n",
            "Epoch 34/150\n",
            "2/2 [==============================] - 0s 11ms/step - loss: 72.0054 - mae: 72.0054\n",
            "Epoch 35/150\n",
            "2/2 [==============================] - 0s 11ms/step - loss: 70.8910 - mae: 70.8910\n",
            "Epoch 36/150\n",
            "2/2 [==============================] - 0s 14ms/step - loss: 69.7864 - mae: 69.7864\n",
            "Epoch 37/150\n",
            "2/2 [==============================] - 0s 11ms/step - loss: 68.6437 - mae: 68.6437\n",
            "Epoch 38/150\n",
            "2/2 [==============================] - 0s 9ms/step - loss: 67.4702 - mae: 67.4702\n",
            "Epoch 39/150\n",
            "2/2 [==============================] - 0s 13ms/step - loss: 66.3773 - mae: 66.3773\n",
            "Epoch 40/150\n",
            "2/2 [==============================] - 0s 9ms/step - loss: 65.2034 - mae: 65.2034\n",
            "Epoch 41/150\n",
            "2/2 [==============================] - 0s 11ms/step - loss: 64.0368 - mae: 64.0368\n",
            "Epoch 42/150\n",
            "2/2 [==============================] - 0s 14ms/step - loss: 62.8808 - mae: 62.8808\n",
            "Epoch 43/150\n",
            "2/2 [==============================] - 0s 10ms/step - loss: 61.7326 - mae: 61.7326\n",
            "Epoch 44/150\n",
            "2/2 [==============================] - 0s 11ms/step - loss: 60.5362 - mae: 60.5362\n",
            "Epoch 45/150\n",
            "2/2 [==============================] - 0s 10ms/step - loss: 59.3000 - mae: 59.3000\n",
            "Epoch 46/150\n",
            "2/2 [==============================] - 0s 10ms/step - loss: 58.1780 - mae: 58.1780\n",
            "Epoch 47/150\n",
            "2/2 [==============================] - 0s 12ms/step - loss: 56.9496 - mae: 56.9496\n",
            "Epoch 48/150\n",
            "2/2 [==============================] - 0s 12ms/step - loss: 55.7759 - mae: 55.7759\n",
            "Epoch 49/150\n",
            "2/2 [==============================] - 0s 11ms/step - loss: 54.5403 - mae: 54.5403\n",
            "Epoch 50/150\n",
            "2/2 [==============================] - 0s 10ms/step - loss: 53.3328 - mae: 53.3328\n",
            "Epoch 51/150\n",
            "2/2 [==============================] - 0s 10ms/step - loss: 52.0829 - mae: 52.0829\n",
            "Epoch 52/150\n",
            "2/2 [==============================] - 0s 10ms/step - loss: 50.8352 - mae: 50.8352\n",
            "Epoch 53/150\n",
            "2/2 [==============================] - 0s 11ms/step - loss: 49.6289 - mae: 49.6289\n",
            "Epoch 54/150\n",
            "2/2 [==============================] - 0s 16ms/step - loss: 48.4009 - mae: 48.4009\n",
            "Epoch 55/150\n",
            "2/2 [==============================] - 0s 11ms/step - loss: 47.1091 - mae: 47.1091\n",
            "Epoch 56/150\n",
            "2/2 [==============================] - 0s 9ms/step - loss: 45.8445 - mae: 45.8445\n",
            "Epoch 57/150\n",
            "2/2 [==============================] - 0s 9ms/step - loss: 44.5513 - mae: 44.5513\n",
            "Epoch 58/150\n",
            "2/2 [==============================] - 0s 10ms/step - loss: 43.3448 - mae: 43.3448\n",
            "Epoch 59/150\n",
            "2/2 [==============================] - 0s 10ms/step - loss: 41.9853 - mae: 41.9853\n",
            "Epoch 60/150\n",
            "2/2 [==============================] - 0s 12ms/step - loss: 40.7391 - mae: 40.7391\n",
            "Epoch 61/150\n",
            "2/2 [==============================] - 0s 10ms/step - loss: 39.3633 - mae: 39.3633\n",
            "Epoch 62/150\n",
            "2/2 [==============================] - 0s 11ms/step - loss: 38.0774 - mae: 38.0774\n",
            "Epoch 63/150\n",
            "2/2 [==============================] - 0s 9ms/step - loss: 36.7915 - mae: 36.7915\n",
            "Epoch 64/150\n",
            "2/2 [==============================] - 0s 11ms/step - loss: 35.4310 - mae: 35.4310\n",
            "Epoch 65/150\n",
            "2/2 [==============================] - 0s 12ms/step - loss: 34.0711 - mae: 34.0711\n",
            "Epoch 66/150\n",
            "2/2 [==============================] - 0s 9ms/step - loss: 32.7189 - mae: 32.7189\n",
            "Epoch 67/150\n",
            "2/2 [==============================] - 0s 10ms/step - loss: 31.3035 - mae: 31.3035\n",
            "Epoch 68/150\n",
            "2/2 [==============================] - 0s 11ms/step - loss: 30.0075 - mae: 30.0075\n",
            "Epoch 69/150\n",
            "2/2 [==============================] - 0s 11ms/step - loss: 28.5919 - mae: 28.5919\n",
            "Epoch 70/150\n",
            "2/2 [==============================] - 0s 11ms/step - loss: 27.2082 - mae: 27.2082\n",
            "Epoch 71/150\n",
            "2/2 [==============================] - 0s 12ms/step - loss: 25.7890 - mae: 25.7890\n",
            "Epoch 72/150\n",
            "2/2 [==============================] - 0s 14ms/step - loss: 24.3814 - mae: 24.3814\n",
            "Epoch 73/150\n",
            "2/2 [==============================] - 0s 10ms/step - loss: 22.8843 - mae: 22.8843\n",
            "Epoch 74/150\n",
            "2/2 [==============================] - 0s 10ms/step - loss: 21.5074 - mae: 21.5074\n",
            "Epoch 75/150\n",
            "2/2 [==============================] - 0s 12ms/step - loss: 20.0458 - mae: 20.0458\n",
            "Epoch 76/150\n",
            "2/2 [==============================] - 0s 18ms/step - loss: 18.6148 - mae: 18.6148\n",
            "Epoch 77/150\n",
            "2/2 [==============================] - 0s 10ms/step - loss: 17.1317 - mae: 17.1317\n",
            "Epoch 78/150\n",
            "2/2 [==============================] - 0s 12ms/step - loss: 15.6115 - mae: 15.6115\n",
            "Epoch 79/150\n",
            "2/2 [==============================] - 0s 9ms/step - loss: 14.1008 - mae: 14.1008\n",
            "Epoch 80/150\n",
            "2/2 [==============================] - 0s 9ms/step - loss: 12.6121 - mae: 12.6121\n",
            "Epoch 81/150\n",
            "2/2 [==============================] - 0s 9ms/step - loss: 11.0655 - mae: 11.0655\n",
            "Epoch 82/150\n",
            "2/2 [==============================] - 0s 10ms/step - loss: 9.5914 - mae: 9.5914\n",
            "Epoch 83/150\n",
            "2/2 [==============================] - 0s 11ms/step - loss: 7.9910 - mae: 7.9910\n",
            "Epoch 84/150\n",
            "2/2 [==============================] - 0s 11ms/step - loss: 6.4728 - mae: 6.4728\n",
            "Epoch 85/150\n",
            "2/2 [==============================] - 0s 10ms/step - loss: 4.9081 - mae: 4.9081\n",
            "Epoch 86/150\n",
            "2/2 [==============================] - 0s 10ms/step - loss: 3.3622 - mae: 3.3622\n",
            "Epoch 87/150\n",
            "2/2 [==============================] - 0s 11ms/step - loss: 1.6885 - mae: 1.6885\n",
            "Epoch 88/150\n",
            "2/2 [==============================] - 0s 9ms/step - loss: 0.8747 - mae: 0.8747\n",
            "Epoch 89/150\n",
            "2/2 [==============================] - 0s 11ms/step - loss: 1.6301 - mae: 1.6301\n",
            "Epoch 90/150\n",
            "2/2 [==============================] - 0s 11ms/step - loss: 2.2096 - mae: 2.2096\n",
            "Epoch 91/150\n",
            "2/2 [==============================] - 0s 14ms/step - loss: 2.5309 - mae: 2.5309\n",
            "Epoch 92/150\n",
            "2/2 [==============================] - 0s 11ms/step - loss: 2.5254 - mae: 2.5254\n",
            "Epoch 93/150\n",
            "2/2 [==============================] - 0s 10ms/step - loss: 2.2560 - mae: 2.2560\n",
            "Epoch 94/150\n",
            "2/2 [==============================] - 0s 8ms/step - loss: 1.7992 - mae: 1.7992\n",
            "Epoch 95/150\n",
            "2/2 [==============================] - 0s 8ms/step - loss: 1.2868 - mae: 1.2868\n",
            "Epoch 96/150\n",
            "2/2 [==============================] - 0s 8ms/step - loss: 0.8536 - mae: 0.8536\n",
            "Epoch 97/150\n",
            "2/2 [==============================] - 0s 8ms/step - loss: 0.8976 - mae: 0.8976\n",
            "Epoch 98/150\n",
            "2/2 [==============================] - 0s 9ms/step - loss: 1.2654 - mae: 1.2654\n",
            "Epoch 99/150\n",
            "2/2 [==============================] - 0s 9ms/step - loss: 1.2830 - mae: 1.2830\n",
            "Epoch 100/150\n",
            "2/2 [==============================] - 0s 10ms/step - loss: 0.9985 - mae: 0.9985\n",
            "Epoch 101/150\n",
            "2/2 [==============================] - 0s 9ms/step - loss: 0.6950 - mae: 0.6950\n",
            "Epoch 102/150\n",
            "2/2 [==============================] - 0s 9ms/step - loss: 0.7937 - mae: 0.7937\n",
            "Epoch 103/150\n",
            "2/2 [==============================] - 0s 10ms/step - loss: 0.9113 - mae: 0.9113\n",
            "Epoch 104/150\n",
            "2/2 [==============================] - 0s 11ms/step - loss: 0.9112 - mae: 0.9112\n",
            "Epoch 105/150\n",
            "2/2 [==============================] - 0s 8ms/step - loss: 0.8257 - mae: 0.8257\n",
            "Epoch 106/150\n",
            "2/2 [==============================] - 0s 8ms/step - loss: 0.6783 - mae: 0.6783\n",
            "Epoch 107/150\n",
            "2/2 [==============================] - 0s 8ms/step - loss: 0.7050 - mae: 0.7050\n",
            "Epoch 108/150\n",
            "2/2 [==============================] - 0s 8ms/step - loss: 0.7370 - mae: 0.7370\n",
            "Epoch 109/150\n",
            "2/2 [==============================] - 0s 9ms/step - loss: 0.6843 - mae: 0.6843\n",
            "Epoch 110/150\n",
            "2/2 [==============================] - 0s 8ms/step - loss: 0.6619 - mae: 0.6619\n",
            "Epoch 111/150\n",
            "2/2 [==============================] - 0s 9ms/step - loss: 0.6742 - mae: 0.6742\n",
            "Epoch 112/150\n",
            "2/2 [==============================] - 0s 10ms/step - loss: 0.6895 - mae: 0.6895\n",
            "Epoch 113/150\n",
            "2/2 [==============================] - 0s 9ms/step - loss: 0.6754 - mae: 0.6754\n",
            "Epoch 114/150\n",
            "2/2 [==============================] - 0s 8ms/step - loss: 0.6489 - mae: 0.6489\n",
            "Epoch 115/150\n",
            "2/2 [==============================] - 0s 9ms/step - loss: 0.6594 - mae: 0.6594\n",
            "Epoch 116/150\n",
            "2/2 [==============================] - 0s 10ms/step - loss: 0.6625 - mae: 0.6625\n",
            "Epoch 117/150\n",
            "2/2 [==============================] - 0s 9ms/step - loss: 0.6465 - mae: 0.6465\n",
            "Epoch 118/150\n",
            "2/2 [==============================] - 0s 9ms/step - loss: 0.6335 - mae: 0.6335\n",
            "Epoch 119/150\n",
            "2/2 [==============================] - 0s 9ms/step - loss: 0.6436 - mae: 0.6436\n",
            "Epoch 120/150\n",
            "2/2 [==============================] - 0s 8ms/step - loss: 0.6485 - mae: 0.6485\n",
            "Epoch 121/150\n",
            "2/2 [==============================] - 0s 10ms/step - loss: 0.6361 - mae: 0.6361\n",
            "Epoch 122/150\n",
            "2/2 [==============================] - 0s 8ms/step - loss: 0.6251 - mae: 0.6251\n",
            "Epoch 123/150\n",
            "2/2 [==============================] - 0s 10ms/step - loss: 0.6308 - mae: 0.6308\n",
            "Epoch 124/150\n",
            "2/2 [==============================] - 0s 11ms/step - loss: 0.6252 - mae: 0.6252\n",
            "Epoch 125/150\n",
            "2/2 [==============================] - 0s 9ms/step - loss: 0.6124 - mae: 0.6124\n",
            "Epoch 126/150\n",
            "2/2 [==============================] - 0s 8ms/step - loss: 0.6128 - mae: 0.6128\n",
            "Epoch 127/150\n",
            "2/2 [==============================] - 0s 9ms/step - loss: 0.6174 - mae: 0.6174\n",
            "Epoch 128/150\n",
            "2/2 [==============================] - 0s 8ms/step - loss: 0.6126 - mae: 0.6126\n",
            "Epoch 129/150\n",
            "2/2 [==============================] - 0s 9ms/step - loss: 0.6057 - mae: 0.6057\n",
            "Epoch 130/150\n",
            "2/2 [==============================] - 0s 10ms/step - loss: 0.6045 - mae: 0.6045\n",
            "Epoch 131/150\n",
            "2/2 [==============================] - 0s 8ms/step - loss: 0.5988 - mae: 0.5988\n",
            "Epoch 132/150\n",
            "2/2 [==============================] - 0s 9ms/step - loss: 0.5885 - mae: 0.5885\n",
            "Epoch 133/150\n",
            "2/2 [==============================] - 0s 9ms/step - loss: 0.5916 - mae: 0.5916\n",
            "Epoch 134/150\n",
            "2/2 [==============================] - 0s 8ms/step - loss: 0.5970 - mae: 0.5970\n",
            "Epoch 135/150\n",
            "2/2 [==============================] - 0s 8ms/step - loss: 0.5913 - mae: 0.5913\n",
            "Epoch 136/150\n",
            "2/2 [==============================] - 0s 9ms/step - loss: 0.5801 - mae: 0.5801\n",
            "Epoch 137/150\n",
            "2/2 [==============================] - 0s 10ms/step - loss: 0.5749 - mae: 0.5749\n",
            "Epoch 138/150\n",
            "2/2 [==============================] - 0s 9ms/step - loss: 0.5890 - mae: 0.5890\n",
            "Epoch 139/150\n",
            "2/2 [==============================] - 0s 9ms/step - loss: 0.5775 - mae: 0.5775\n",
            "Epoch 140/150\n",
            "2/2 [==============================] - 0s 9ms/step - loss: 0.5659 - mae: 0.5659\n",
            "Epoch 141/150\n",
            "2/2 [==============================] - 0s 9ms/step - loss: 0.5653 - mae: 0.5653\n",
            "Epoch 142/150\n",
            "2/2 [==============================] - 0s 9ms/step - loss: 0.5637 - mae: 0.5637\n",
            "Epoch 143/150\n",
            "2/2 [==============================] - 0s 8ms/step - loss: 0.5537 - mae: 0.5537\n",
            "Epoch 144/150\n",
            "2/2 [==============================] - 0s 10ms/step - loss: 0.5512 - mae: 0.5512\n",
            "Epoch 145/150\n",
            "2/2 [==============================] - 0s 9ms/step - loss: 0.5479 - mae: 0.5479\n",
            "Epoch 146/150\n",
            "2/2 [==============================] - 0s 9ms/step - loss: 0.5439 - mae: 0.5439\n",
            "Epoch 147/150\n",
            "2/2 [==============================] - 0s 8ms/step - loss: 0.5406 - mae: 0.5406\n",
            "Epoch 148/150\n",
            "2/2 [==============================] - 0s 9ms/step - loss: 0.5427 - mae: 0.5427\n",
            "Epoch 149/150\n",
            "2/2 [==============================] - 0s 11ms/step - loss: 0.5356 - mae: 0.5356\n",
            "Epoch 150/150\n",
            "2/2 [==============================] - 0s 12ms/step - loss: 0.5293 - mae: 0.5293\n"
          ]
        },
        {
          "output_type": "execute_result",
          "data": {
            "text/plain": [
              "<keras.callbacks.History at 0x7ddea038dbd0>"
            ]
          },
          "metadata": {},
          "execution_count": 43
        }
      ]
    },
    {
      "cell_type": "code",
      "source": [
        "model.predict([150, -10])"
      ],
      "metadata": {
        "colab": {
          "base_uri": "https://localhost:8080/"
        },
        "id": "tPXXAP6Hekgg",
        "outputId": "6966f167-f70b-4099-f97e-c3ba444a3a46"
      },
      "execution_count": 46,
      "outputs": [
        {
          "output_type": "stream",
          "name": "stdout",
          "text": [
            "1/1 [==============================] - 0s 134ms/step\n"
          ]
        },
        {
          "output_type": "execute_result",
          "data": {
            "text/plain": [
              "array([[304.369   ],\n",
              "       [-18.429111]], dtype=float32)"
            ]
          },
          "metadata": {},
          "execution_count": 46
        }
      ]
    },
    {
      "cell_type": "code",
      "source": [
        "X = 150\n",
        "y = 2*X + 3\n",
        "y"
      ],
      "metadata": {
        "colab": {
          "base_uri": "https://localhost:8080/"
        },
        "id": "7Dhm3eGjfye1",
        "outputId": "33f4dc62-76f7-432e-8f51-ae357b44a2c7"
      },
      "execution_count": 45,
      "outputs": [
        {
          "output_type": "execute_result",
          "data": {
            "text/plain": [
              "303"
            ]
          },
          "metadata": {},
          "execution_count": 45
        }
      ]
    },
    {
      "cell_type": "code",
      "source": [
        "X = -10\n",
        "y = 2*X + 3\n",
        "y"
      ],
      "metadata": {
        "colab": {
          "base_uri": "https://localhost:8080/"
        },
        "id": "UPjN9-7NgNZx",
        "outputId": "79869b78-35ac-4416-c97e-e8ebd8f53639"
      },
      "execution_count": 47,
      "outputs": [
        {
          "output_type": "execute_result",
          "data": {
            "text/plain": [
              "-17"
            ]
          },
          "metadata": {},
          "execution_count": 47
        }
      ]
    },
    {
      "cell_type": "markdown",
      "source": [
        "# **Save and load the model = SaveModel format**"
      ],
      "metadata": {
        "id": "7WDOFmbYeggq"
      }
    },
    {
      "cell_type": "code",
      "source": [
        "model.save('new_model_1')"
      ],
      "metadata": {
        "colab": {
          "base_uri": "https://localhost:8080/"
        },
        "id": "0A0rFOwugv2x",
        "outputId": "d976db78-6845-49b8-95c5-9aca0dd3e069"
      },
      "execution_count": 48,
      "outputs": [
        {
          "output_type": "stream",
          "name": "stderr",
          "text": [
            "WARNING:absl:Found untraced functions such as _update_step_xla while saving (showing 1 of 1). These functions will not be directly callable after loading.\n"
          ]
        }
      ]
    },
    {
      "cell_type": "markdown",
      "source": [
        "# **Save and load the model = HDF5 format**"
      ],
      "metadata": {
        "id": "EusuYWJchHSh"
      }
    },
    {
      "cell_type": "code",
      "source": [
        "model.save('new_model_2.h5')"
      ],
      "metadata": {
        "id": "_RJDz2QzhEUR"
      },
      "execution_count": 49,
      "outputs": []
    },
    {
      "cell_type": "markdown",
      "source": [
        "# **Load model using SavedModel Format**"
      ],
      "metadata": {
        "id": "WP1DSZs6hjGi"
      }
    },
    {
      "cell_type": "code",
      "source": [
        "import tensorflow as tf\n",
        "new_model_1 = tf.keras.models.load_model('new_model_1')"
      ],
      "metadata": {
        "id": "Qk8uAg8FhuGX"
      },
      "execution_count": 51,
      "outputs": []
    },
    {
      "cell_type": "code",
      "source": [
        "new_model_1.predict([150,-10])"
      ],
      "metadata": {
        "colab": {
          "base_uri": "https://localhost:8080/"
        },
        "id": "CTpILFaIiDRt",
        "outputId": "da1339c0-cd08-4f75-d70d-5309e0ad8fd4"
      },
      "execution_count": 52,
      "outputs": [
        {
          "output_type": "stream",
          "name": "stderr",
          "text": [
            "WARNING:tensorflow:5 out of the last 7 calls to <function Model.make_predict_function.<locals>.predict_function at 0x7ddea0d437f0> triggered tf.function retracing. Tracing is expensive and the excessive number of tracings could be due to (1) creating @tf.function repeatedly in a loop, (2) passing tensors with different shapes, (3) passing Python objects instead of tensors. For (1), please define your @tf.function outside of the loop. For (2), @tf.function has reduce_retracing=True option that can avoid unnecessary retracing. For (3), please refer to https://www.tensorflow.org/guide/function#controlling_retracing and https://www.tensorflow.org/api_docs/python/tf/function for  more details.\n"
          ]
        },
        {
          "output_type": "stream",
          "name": "stdout",
          "text": [
            "1/1 [==============================] - 0s 104ms/step\n"
          ]
        },
        {
          "output_type": "execute_result",
          "data": {
            "text/plain": [
              "array([[304.369   ],\n",
              "       [-18.429111]], dtype=float32)"
            ]
          },
          "metadata": {},
          "execution_count": 52
        }
      ]
    },
    {
      "cell_type": "code",
      "source": [
        "# creted model architecture\n",
        "new_model_1.summary()"
      ],
      "metadata": {
        "colab": {
          "base_uri": "https://localhost:8080/"
        },
        "id": "UDTJ-yK7iJLe",
        "outputId": "6f5a40b9-d5de-4df6-f179-5f29d9afe6a3"
      },
      "execution_count": 53,
      "outputs": [
        {
          "output_type": "stream",
          "name": "stdout",
          "text": [
            "Model: \"sequential_31\"\n",
            "_________________________________________________________________\n",
            " Layer (type)                Output Shape              Param #   \n",
            "=================================================================\n",
            " dense_62 (Dense)            (None, 20)                40        \n",
            "                                                                 \n",
            " dense_63 (Dense)            (None, 1)                 21        \n",
            "                                                                 \n",
            "=================================================================\n",
            "Total params: 61\n",
            "Trainable params: 61\n",
            "Non-trainable params: 0\n",
            "_________________________________________________________________\n"
          ]
        }
      ]
    },
    {
      "cell_type": "markdown",
      "source": [
        "# Load model using HDF5 Format"
      ],
      "metadata": {
        "id": "hGDwKAEDiTaN"
      }
    },
    {
      "cell_type": "code",
      "source": [
        "import tensorflow as tf\n",
        "new_model_2 = tf.keras.models.load_model('new_model_2.h5')"
      ],
      "metadata": {
        "id": "2tFx4HymiYte"
      },
      "execution_count": 54,
      "outputs": []
    },
    {
      "cell_type": "code",
      "source": [
        "new_model_2.predict([150, -10])"
      ],
      "metadata": {
        "colab": {
          "base_uri": "https://localhost:8080/"
        },
        "id": "ukjPEee5i4V9",
        "outputId": "bb24812c-2a31-4f91-abe0-51a5b0ae823d"
      },
      "execution_count": 55,
      "outputs": [
        {
          "output_type": "stream",
          "name": "stderr",
          "text": [
            "WARNING:tensorflow:6 out of the last 8 calls to <function Model.make_predict_function.<locals>.predict_function at 0x7dde9dbafd90> triggered tf.function retracing. Tracing is expensive and the excessive number of tracings could be due to (1) creating @tf.function repeatedly in a loop, (2) passing tensors with different shapes, (3) passing Python objects instead of tensors. For (1), please define your @tf.function outside of the loop. For (2), @tf.function has reduce_retracing=True option that can avoid unnecessary retracing. For (3), please refer to https://www.tensorflow.org/guide/function#controlling_retracing and https://www.tensorflow.org/api_docs/python/tf/function for  more details.\n"
          ]
        },
        {
          "output_type": "stream",
          "name": "stdout",
          "text": [
            "1/1 [==============================] - 0s 158ms/step\n"
          ]
        },
        {
          "output_type": "execute_result",
          "data": {
            "text/plain": [
              "array([[304.369   ],\n",
              "       [-18.429111]], dtype=float32)"
            ]
          },
          "metadata": {},
          "execution_count": 55
        }
      ]
    },
    {
      "cell_type": "code",
      "source": [
        "new_model_2.summary()"
      ],
      "metadata": {
        "colab": {
          "base_uri": "https://localhost:8080/"
        },
        "id": "X4nSSYKPi84u",
        "outputId": "cc8d8873-3b94-41c1-ee69-51ff69b48c7b"
      },
      "execution_count": 56,
      "outputs": [
        {
          "output_type": "stream",
          "name": "stdout",
          "text": [
            "Model: \"sequential_31\"\n",
            "_________________________________________________________________\n",
            " Layer (type)                Output Shape              Param #   \n",
            "=================================================================\n",
            " dense_62 (Dense)            (None, 20)                40        \n",
            "                                                                 \n",
            " dense_63 (Dense)            (None, 1)                 21        \n",
            "                                                                 \n",
            "=================================================================\n",
            "Total params: 61\n",
            "Trainable params: 61\n",
            "Non-trainable params: 0\n",
            "_________________________________________________________________\n"
          ]
        }
      ]
    }
  ]
}