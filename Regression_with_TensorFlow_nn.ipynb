{
  "nbformat": 4,
  "nbformat_minor": 0,
  "metadata": {
    "colab": {
      "provenance": [],
      "authorship_tag": "ABX9TyNwDlkthOcIaz/MepeTOark",
      "include_colab_link": true
    },
    "kernelspec": {
      "name": "python3",
      "display_name": "Python 3"
    },
    "language_info": {
      "name": "python"
    }
  },
  "cells": [
    {
      "cell_type": "markdown",
      "metadata": {
        "id": "view-in-github",
        "colab_type": "text"
      },
      "source": [
        "<a href=\"https://colab.research.google.com/github/WAPiumiNavoda/Deep-Learning-Exercises/blob/main/Regression_with_TensorFlow_nn.ipynb\" target=\"_parent\"><img src=\"https://colab.research.google.com/assets/colab-badge.svg\" alt=\"Open In Colab\"/></a>"
      ]
    },
    {
      "cell_type": "markdown",
      "source": [
        "**Import the dataset from kaggle**"
      ],
      "metadata": {
        "id": "VKyoqBb-bC94"
      }
    },
    {
      "cell_type": "code",
      "execution_count": null,
      "metadata": {
        "colab": {
          "base_uri": "https://localhost:8080/"
        },
        "id": "V69R8z-BWkKg",
        "outputId": "8dd5ce1d-808b-4e49-871d-99403eae3e54"
      },
      "outputs": [
        {
          "output_type": "stream",
          "name": "stdout",
          "text": [
            "Collecting opendatasets\n",
            "  Downloading opendatasets-0.1.22-py3-none-any.whl (15 kB)\n",
            "Requirement already satisfied: tqdm in /usr/local/lib/python3.10/dist-packages (from opendatasets) (4.66.1)\n",
            "Requirement already satisfied: kaggle in /usr/local/lib/python3.10/dist-packages (from opendatasets) (1.5.16)\n",
            "Requirement already satisfied: click in /usr/local/lib/python3.10/dist-packages (from opendatasets) (8.1.7)\n",
            "Requirement already satisfied: six>=1.10 in /usr/local/lib/python3.10/dist-packages (from kaggle->opendatasets) (1.16.0)\n",
            "Requirement already satisfied: certifi in /usr/local/lib/python3.10/dist-packages (from kaggle->opendatasets) (2023.7.22)\n",
            "Requirement already satisfied: python-dateutil in /usr/local/lib/python3.10/dist-packages (from kaggle->opendatasets) (2.8.2)\n",
            "Requirement already satisfied: requests in /usr/local/lib/python3.10/dist-packages (from kaggle->opendatasets) (2.31.0)\n",
            "Requirement already satisfied: python-slugify in /usr/local/lib/python3.10/dist-packages (from kaggle->opendatasets) (8.0.1)\n",
            "Requirement already satisfied: urllib3 in /usr/local/lib/python3.10/dist-packages (from kaggle->opendatasets) (2.0.4)\n",
            "Requirement already satisfied: bleach in /usr/local/lib/python3.10/dist-packages (from kaggle->opendatasets) (6.0.0)\n",
            "Requirement already satisfied: webencodings in /usr/local/lib/python3.10/dist-packages (from bleach->kaggle->opendatasets) (0.5.1)\n",
            "Requirement already satisfied: text-unidecode>=1.3 in /usr/local/lib/python3.10/dist-packages (from python-slugify->kaggle->opendatasets) (1.3)\n",
            "Requirement already satisfied: charset-normalizer<4,>=2 in /usr/local/lib/python3.10/dist-packages (from requests->kaggle->opendatasets) (3.2.0)\n",
            "Requirement already satisfied: idna<4,>=2.5 in /usr/local/lib/python3.10/dist-packages (from requests->kaggle->opendatasets) (3.4)\n",
            "Installing collected packages: opendatasets\n",
            "Successfully installed opendatasets-0.1.22\n"
          ]
        }
      ],
      "source": [
        "!pip install opendatasets"
      ]
    },
    {
      "cell_type": "code",
      "source": [
        "# import libraries\n",
        "import pandas as pd\n",
        "import matplotlib.pyplot as plt\n",
        "import tensorflow as tf\n",
        "import opendatasets as od #get the dataset from kaggle"
      ],
      "metadata": {
        "id": "BzgIMoFebQLH"
      },
      "execution_count": null,
      "outputs": []
    },
    {
      "cell_type": "code",
      "source": [
        "od.download(\"https://www.kaggle.com/datasets/andonians/random-linear-regression\")#download the dataset"
      ],
      "metadata": {
        "colab": {
          "base_uri": "https://localhost:8080/"
        },
        "id": "e25HZ9rXbgLY",
        "outputId": "ef5156f2-7817-4239-f752-ddb4300fe1f2"
      },
      "execution_count": null,
      "outputs": [
        {
          "output_type": "stream",
          "name": "stdout",
          "text": [
            "Please provide your Kaggle credentials to download this dataset. Learn more: http://bit.ly/kaggle-creds\n",
            "Your Kaggle username: piuminavoda\n",
            "Your Kaggle Key: ··········\n",
            "Downloading random-linear-regression.zip to ./random-linear-regression\n"
          ]
        },
        {
          "output_type": "stream",
          "name": "stderr",
          "text": [
            "100%|██████████| 7.63k/7.63k [00:00<00:00, 2.72MB/s]"
          ]
        },
        {
          "output_type": "stream",
          "name": "stdout",
          "text": [
            "\n"
          ]
        },
        {
          "output_type": "stream",
          "name": "stderr",
          "text": [
            "\n"
          ]
        }
      ]
    },
    {
      "cell_type": "code",
      "source": [
        "data = pd.read_csv(\"random-linear-regression/test.csv\")#load the dataset"
      ],
      "metadata": {
        "id": "g8UiRWjccBJs"
      },
      "execution_count": null,
      "outputs": []
    },
    {
      "cell_type": "markdown",
      "source": [
        "### **Data Preprocessing**"
      ],
      "metadata": {
        "id": "CDcK7DGkdaHw"
      }
    },
    {
      "cell_type": "code",
      "source": [
        "data.head()"
      ],
      "metadata": {
        "colab": {
          "base_uri": "https://localhost:8080/",
          "height": 206
        },
        "id": "LJ3IgHiBcX-T",
        "outputId": "d7c06c28-3fc1-4680-ee0e-2e595f73a6d0"
      },
      "execution_count": null,
      "outputs": [
        {
          "output_type": "execute_result",
          "data": {
            "text/plain": [
              "    x          y\n",
              "0  77  79.775152\n",
              "1  21  23.177279\n",
              "2  22  25.609262\n",
              "3  20  17.857388\n",
              "4  36  41.849864"
            ],
            "text/html": [
              "\n",
              "  <div id=\"df-f7cec370-10c5-44fe-8664-38b360b54a3a\" class=\"colab-df-container\">\n",
              "    <div>\n",
              "<style scoped>\n",
              "    .dataframe tbody tr th:only-of-type {\n",
              "        vertical-align: middle;\n",
              "    }\n",
              "\n",
              "    .dataframe tbody tr th {\n",
              "        vertical-align: top;\n",
              "    }\n",
              "\n",
              "    .dataframe thead th {\n",
              "        text-align: right;\n",
              "    }\n",
              "</style>\n",
              "<table border=\"1\" class=\"dataframe\">\n",
              "  <thead>\n",
              "    <tr style=\"text-align: right;\">\n",
              "      <th></th>\n",
              "      <th>x</th>\n",
              "      <th>y</th>\n",
              "    </tr>\n",
              "  </thead>\n",
              "  <tbody>\n",
              "    <tr>\n",
              "      <th>0</th>\n",
              "      <td>77</td>\n",
              "      <td>79.775152</td>\n",
              "    </tr>\n",
              "    <tr>\n",
              "      <th>1</th>\n",
              "      <td>21</td>\n",
              "      <td>23.177279</td>\n",
              "    </tr>\n",
              "    <tr>\n",
              "      <th>2</th>\n",
              "      <td>22</td>\n",
              "      <td>25.609262</td>\n",
              "    </tr>\n",
              "    <tr>\n",
              "      <th>3</th>\n",
              "      <td>20</td>\n",
              "      <td>17.857388</td>\n",
              "    </tr>\n",
              "    <tr>\n",
              "      <th>4</th>\n",
              "      <td>36</td>\n",
              "      <td>41.849864</td>\n",
              "    </tr>\n",
              "  </tbody>\n",
              "</table>\n",
              "</div>\n",
              "    <div class=\"colab-df-buttons\">\n",
              "\n",
              "  <div class=\"colab-df-container\">\n",
              "    <button class=\"colab-df-convert\" onclick=\"convertToInteractive('df-f7cec370-10c5-44fe-8664-38b360b54a3a')\"\n",
              "            title=\"Convert this dataframe to an interactive table.\"\n",
              "            style=\"display:none;\">\n",
              "\n",
              "  <svg xmlns=\"http://www.w3.org/2000/svg\" height=\"24px\" viewBox=\"0 -960 960 960\">\n",
              "    <path d=\"M120-120v-720h720v720H120Zm60-500h600v-160H180v160Zm220 220h160v-160H400v160Zm0 220h160v-160H400v160ZM180-400h160v-160H180v160Zm440 0h160v-160H620v160ZM180-180h160v-160H180v160Zm440 0h160v-160H620v160Z\"/>\n",
              "  </svg>\n",
              "    </button>\n",
              "\n",
              "  <style>\n",
              "    .colab-df-container {\n",
              "      display:flex;\n",
              "      gap: 12px;\n",
              "    }\n",
              "\n",
              "    .colab-df-convert {\n",
              "      background-color: #E8F0FE;\n",
              "      border: none;\n",
              "      border-radius: 50%;\n",
              "      cursor: pointer;\n",
              "      display: none;\n",
              "      fill: #1967D2;\n",
              "      height: 32px;\n",
              "      padding: 0 0 0 0;\n",
              "      width: 32px;\n",
              "    }\n",
              "\n",
              "    .colab-df-convert:hover {\n",
              "      background-color: #E2EBFA;\n",
              "      box-shadow: 0px 1px 2px rgba(60, 64, 67, 0.3), 0px 1px 3px 1px rgba(60, 64, 67, 0.15);\n",
              "      fill: #174EA6;\n",
              "    }\n",
              "\n",
              "    .colab-df-buttons div {\n",
              "      margin-bottom: 4px;\n",
              "    }\n",
              "\n",
              "    [theme=dark] .colab-df-convert {\n",
              "      background-color: #3B4455;\n",
              "      fill: #D2E3FC;\n",
              "    }\n",
              "\n",
              "    [theme=dark] .colab-df-convert:hover {\n",
              "      background-color: #434B5C;\n",
              "      box-shadow: 0px 1px 3px 1px rgba(0, 0, 0, 0.15);\n",
              "      filter: drop-shadow(0px 1px 2px rgba(0, 0, 0, 0.3));\n",
              "      fill: #FFFFFF;\n",
              "    }\n",
              "  </style>\n",
              "\n",
              "    <script>\n",
              "      const buttonEl =\n",
              "        document.querySelector('#df-f7cec370-10c5-44fe-8664-38b360b54a3a button.colab-df-convert');\n",
              "      buttonEl.style.display =\n",
              "        google.colab.kernel.accessAllowed ? 'block' : 'none';\n",
              "\n",
              "      async function convertToInteractive(key) {\n",
              "        const element = document.querySelector('#df-f7cec370-10c5-44fe-8664-38b360b54a3a');\n",
              "        const dataTable =\n",
              "          await google.colab.kernel.invokeFunction('convertToInteractive',\n",
              "                                                    [key], {});\n",
              "        if (!dataTable) return;\n",
              "\n",
              "        const docLinkHtml = 'Like what you see? Visit the ' +\n",
              "          '<a target=\"_blank\" href=https://colab.research.google.com/notebooks/data_table.ipynb>data table notebook</a>'\n",
              "          + ' to learn more about interactive tables.';\n",
              "        element.innerHTML = '';\n",
              "        dataTable['output_type'] = 'display_data';\n",
              "        await google.colab.output.renderOutput(dataTable, element);\n",
              "        const docLink = document.createElement('div');\n",
              "        docLink.innerHTML = docLinkHtml;\n",
              "        element.appendChild(docLink);\n",
              "      }\n",
              "    </script>\n",
              "  </div>\n",
              "\n",
              "\n",
              "<div id=\"df-4bca6f28-a2ad-4809-b689-4e18677ff34a\">\n",
              "  <button class=\"colab-df-quickchart\" onclick=\"quickchart('df-4bca6f28-a2ad-4809-b689-4e18677ff34a')\"\n",
              "            title=\"Suggest charts.\"\n",
              "            style=\"display:none;\">\n",
              "\n",
              "<svg xmlns=\"http://www.w3.org/2000/svg\" height=\"24px\"viewBox=\"0 0 24 24\"\n",
              "     width=\"24px\">\n",
              "    <g>\n",
              "        <path d=\"M19 3H5c-1.1 0-2 .9-2 2v14c0 1.1.9 2 2 2h14c1.1 0 2-.9 2-2V5c0-1.1-.9-2-2-2zM9 17H7v-7h2v7zm4 0h-2V7h2v10zm4 0h-2v-4h2v4z\"/>\n",
              "    </g>\n",
              "</svg>\n",
              "  </button>\n",
              "\n",
              "<style>\n",
              "  .colab-df-quickchart {\n",
              "    background-color: #E8F0FE;\n",
              "    border: none;\n",
              "    border-radius: 50%;\n",
              "    cursor: pointer;\n",
              "    display: none;\n",
              "    fill: #1967D2;\n",
              "    height: 32px;\n",
              "    padding: 0 0 0 0;\n",
              "    width: 32px;\n",
              "  }\n",
              "\n",
              "  .colab-df-quickchart:hover {\n",
              "    background-color: #E2EBFA;\n",
              "    box-shadow: 0px 1px 2px rgba(60, 64, 67, 0.3), 0px 1px 3px 1px rgba(60, 64, 67, 0.15);\n",
              "    fill: #174EA6;\n",
              "  }\n",
              "\n",
              "  [theme=dark] .colab-df-quickchart {\n",
              "    background-color: #3B4455;\n",
              "    fill: #D2E3FC;\n",
              "  }\n",
              "\n",
              "  [theme=dark] .colab-df-quickchart:hover {\n",
              "    background-color: #434B5C;\n",
              "    box-shadow: 0px 1px 3px 1px rgba(0, 0, 0, 0.15);\n",
              "    filter: drop-shadow(0px 1px 2px rgba(0, 0, 0, 0.3));\n",
              "    fill: #FFFFFF;\n",
              "  }\n",
              "</style>\n",
              "\n",
              "  <script>\n",
              "    async function quickchart(key) {\n",
              "      const charts = await google.colab.kernel.invokeFunction(\n",
              "          'suggestCharts', [key], {});\n",
              "    }\n",
              "    (() => {\n",
              "      let quickchartButtonEl =\n",
              "        document.querySelector('#df-4bca6f28-a2ad-4809-b689-4e18677ff34a button');\n",
              "      quickchartButtonEl.style.display =\n",
              "        google.colab.kernel.accessAllowed ? 'block' : 'none';\n",
              "    })();\n",
              "  </script>\n",
              "</div>\n",
              "    </div>\n",
              "  </div>\n"
            ]
          },
          "metadata": {},
          "execution_count": 5
        }
      ]
    },
    {
      "cell_type": "code",
      "source": [
        "data.shape"
      ],
      "metadata": {
        "colab": {
          "base_uri": "https://localhost:8080/"
        },
        "id": "ELcQlsujcdyk",
        "outputId": "0e2311bf-fa56-4403-f600-7cd4fdd30077"
      },
      "execution_count": null,
      "outputs": [
        {
          "output_type": "execute_result",
          "data": {
            "text/plain": [
              "(300, 2)"
            ]
          },
          "metadata": {},
          "execution_count": 7
        }
      ]
    },
    {
      "cell_type": "code",
      "source": [
        "#divide datset to X and Y\n",
        "X = data['x']\n",
        "Y = data['y']"
      ],
      "metadata": {
        "id": "X-1hK8xpcmUt"
      },
      "execution_count": null,
      "outputs": []
    },
    {
      "cell_type": "code",
      "source": [
        "X"
      ],
      "metadata": {
        "colab": {
          "base_uri": "https://localhost:8080/"
        },
        "id": "auoqQFX3cv-E",
        "outputId": "2c98936b-6e6e-41ce-e54a-6ae074ad1ca4"
      },
      "execution_count": null,
      "outputs": [
        {
          "output_type": "execute_result",
          "data": {
            "text/plain": [
              "0      77\n",
              "1      21\n",
              "2      22\n",
              "3      20\n",
              "4      36\n",
              "       ..\n",
              "295    71\n",
              "296    46\n",
              "297    55\n",
              "298    62\n",
              "299    47\n",
              "Name: x, Length: 300, dtype: int64"
            ]
          },
          "metadata": {},
          "execution_count": 9
        }
      ]
    },
    {
      "cell_type": "code",
      "source": [
        "plt.scatter(X,Y, c='b')\n",
        "plt.show"
      ],
      "metadata": {
        "colab": {
          "base_uri": "https://localhost:8080/",
          "height": 447
        },
        "id": "-m64ru2Scyyl",
        "outputId": "99fa8283-dab4-4a66-d741-4b96987efe9c"
      },
      "execution_count": null,
      "outputs": [
        {
          "output_type": "execute_result",
          "data": {
            "text/plain": [
              "<function matplotlib.pyplot.show(close=None, block=None)>"
            ]
          },
          "metadata": {},
          "execution_count": 10
        },
        {
          "output_type": "display_data",
          "data": {
            "text/plain": [
              "<Figure size 640x480 with 1 Axes>"
            ],
            "image/png": "[encoded data removed]"
          },
          "metadata": {}
        }
      ]
    },
    {
      "cell_type": "code",
      "source": [
        "# divide data set for train and test\n",
        "from sklearn.model_selection import train_test_split\n",
        "X_train, X_test, y_train, y_test = train_test_split(X, Y, test_size=0.2, random_state=42)"
      ],
      "metadata": {
        "id": "t6jvd4g1dHV4"
      },
      "execution_count": null,
      "outputs": []
    },
    {
      "cell_type": "code",
      "source": [
        "X_train.shape,X_test.shape"
      ],
      "metadata": {
        "colab": {
          "base_uri": "https://localhost:8080/"
        },
        "id": "OfnaKRl_di7p",
        "outputId": "3399e2eb-42e5-438c-f651-ce2fabf374e8"
      },
      "execution_count": null,
      "outputs": [
        {
          "output_type": "execute_result",
          "data": {
            "text/plain": [
              "((240,), (60,))"
            ]
          },
          "metadata": {},
          "execution_count": 23
        }
      ]
    },
    {
      "cell_type": "code",
      "source": [
        "plt.scatter(X_train, y_train, c='b', label='Training data')\n",
        "plt.scatter(X_test, y_test, c='y', label='Testing data')\n",
        "plt.legend()\n",
        "plt.show()"
      ],
      "metadata": {
        "colab": {
          "base_uri": "https://localhost:8080/",
          "height": 430
        },
        "id": "TPgCSkX5dxc4",
        "outputId": "e540563a-6f8c-48a5-937c-91d0df4ab43d"
      },
      "execution_count": null,
      "outputs": [
        {
          "output_type": "display_data",
          "data": {
            "text/plain": [
              "<Figure size 640x480 with 1 Axes>"
            ],
            "image/png": "[encoded data removed]"
          },
          "metadata": {}
        }
      ]
    },
    {
      "cell_type": "markdown",
      "source": [
        "## **Model Building**"
      ],
      "metadata": {
        "id": "ij0vu9pMeGEC"
      }
    },
    {
      "cell_type": "code",
      "source": [
        "#Create a model\n",
        "model = tf.keras.Sequential([\n",
        "    tf.keras.layers.Dense(14,input_shape=(1,)), # give number of nurones inside hidden layer\n",
        "    tf.keras.layers.Dense(10,input_shape=(1,)),\n",
        "    tf.keras.layers.Dense(1) #output layer\n",
        "])\n",
        "\n",
        "\n",
        "#Compile model\n",
        "model.compile(loss = tf.keras.losses.mae,\n",
        "              optimizer = tf.keras.optimizers.Adam(lr = 0.05),\n",
        "              metrics = ['mae']\n",
        "             )\n",
        "\n",
        "#train model\n",
        "epoch_number = 10\n",
        "history = model.fit(tf.expand_dims(X_train, axis =1),y_train, epochs =  epoch_number) #give as 2D array"
      ],
      "metadata": {
        "colab": {
          "base_uri": "https://localhost:8080/"
        },
        "id": "Ew2RVWxyezJ0",
        "outputId": "10327cea-d620-4f04-f394-5cdffbc70f7c"
      },
      "execution_count": null,
      "outputs": [
        {
          "output_type": "stream",
          "name": "stderr",
          "text": [
            "WARNING:absl:`lr` is deprecated in Keras optimizer, please use `learning_rate` or use the legacy optimizer, e.g.,tf.keras.optimizers.legacy.Adam.\n"
          ]
        },
        {
          "output_type": "stream",
          "name": "stdout",
          "text": [
            "Epoch 1/10\n",
            "8/8 [==============================] - 1s 2ms/step - loss: 57.5156 - mae: 57.5156\n",
            "Epoch 2/10\n",
            "8/8 [==============================] - 0s 2ms/step - loss: 46.3196 - mae: 46.3196\n",
            "Epoch 3/10\n",
            "8/8 [==============================] - 0s 2ms/step - loss: 34.7147 - mae: 34.7147\n",
            "Epoch 4/10\n",
            "8/8 [==============================] - 0s 2ms/step - loss: 22.8755 - mae: 22.8755\n",
            "Epoch 5/10\n",
            "8/8 [==============================] - 0s 2ms/step - loss: 11.3134 - mae: 11.3134\n",
            "Epoch 6/10\n",
            "8/8 [==============================] - 0s 3ms/step - loss: 3.4380 - mae: 3.4380\n",
            "Epoch 7/10\n",
            "8/8 [==============================] - 0s 3ms/step - loss: 5.0354 - mae: 5.0354\n",
            "Epoch 8/10\n",
            "8/8 [==============================] - 0s 2ms/step - loss: 2.8426 - mae: 2.8426\n",
            "Epoch 9/10\n",
            "8/8 [==============================] - 0s 3ms/step - loss: 3.1257 - mae: 3.1257\n",
            "Epoch 10/10\n",
            "8/8 [==============================] - 0s 3ms/step - loss: 2.6714 - mae: 2.6714\n"
          ]
        }
      ]
    },
    {
      "cell_type": "markdown",
      "source": [
        "# **Evaluate Model**"
      ],
      "metadata": {
        "id": "8u08mBIWjKzV"
      }
    },
    {
      "cell_type": "code",
      "source": [
        "model.summary()"
      ],
      "metadata": {
        "colab": {
          "base_uri": "https://localhost:8080/"
        },
        "id": "P_oYVun4hVXZ",
        "outputId": "b5434d03-8c32-4044-e8c5-1b48c380dda5"
      },
      "execution_count": null,
      "outputs": [
        {
          "output_type": "stream",
          "name": "stdout",
          "text": [
            "Model: \"sequential_13\"\n",
            "_________________________________________________________________\n",
            " Layer (type)                Output Shape              Param #   \n",
            "=================================================================\n",
            " dense_31 (Dense)            (None, 14)                28        \n",
            "                                                                 \n",
            " dense_32 (Dense)            (None, 10)                150       \n",
            "                                                                 \n",
            " dense_33 (Dense)            (None, 1)                 11        \n",
            "                                                                 \n",
            "=================================================================\n",
            "Total params: 189\n",
            "Trainable params: 189\n",
            "Non-trainable params: 0\n",
            "_________________________________________________________________\n"
          ]
        }
      ]
    },
    {
      "cell_type": "code",
      "source": [
        "y_predictions = model.predict(X_test)\n",
        "y_predictions[:5]"
      ],
      "metadata": {
        "colab": {
          "base_uri": "https://localhost:8080/"
        },
        "id": "mxNTJKGEhy9M",
        "outputId": "3fd4710f-60f7-4c22-dda4-cd4aabdbdf0e"
      },
      "execution_count": null,
      "outputs": [
        {
          "output_type": "stream",
          "name": "stderr",
          "text": [
            "WARNING:tensorflow:5 out of the last 13 calls to <function Model.make_predict_function.<locals>.predict_function at 0x7d1bbf0be5f0> triggered tf.function retracing. Tracing is expensive and the excessive number of tracings could be due to (1) creating @tf.function repeatedly in a loop, (2) passing tensors with different shapes, (3) passing Python objects instead of tensors. For (1), please define your @tf.function outside of the loop. For (2), @tf.function has reduce_retracing=True option that can avoid unnecessary retracing. For (3), please refer to https://www.tensorflow.org/guide/function#controlling_retracing and https://www.tensorflow.org/api_docs/python/tf/function for  more details.\n"
          ]
        },
        {
          "output_type": "stream",
          "name": "stdout",
          "text": [
            "2/2 [==============================] - 0s 6ms/step\n"
          ]
        },
        {
          "output_type": "execute_result",
          "data": {
            "text/plain": [
              "array([[92.83586  ],\n",
              "       [78.47102  ],\n",
              "       [96.94009  ],\n",
              "       [ 5.6208177],\n",
              "       [93.8619   ]], dtype=float32)"
            ]
          },
          "metadata": {},
          "execution_count": 74
        }
      ]
    },
    {
      "cell_type": "code",
      "source": [
        "y_test.head(5)"
      ],
      "metadata": {
        "colab": {
          "base_uri": "https://localhost:8080/"
        },
        "id": "gMBaxS7gh388",
        "outputId": "12c64e76-e176-4738-b2f5-c7cac0e92ebc"
      },
      "execution_count": null,
      "outputs": [
        {
          "output_type": "execute_result",
          "data": {
            "text/plain": [
              "203    92.887723\n",
              "266    79.503415\n",
              "152    97.001484\n",
              "9       8.746748\n",
              "233    89.739520\n",
              "Name: y, dtype: float64"
            ]
          },
          "metadata": {},
          "execution_count": 75
        }
      ]
    },
    {
      "cell_type": "code",
      "source": [
        "# plt.scatter(X_train, y_train, c='b', label='Training_data')\n",
        "plt.scatter(X_test, y_test, c='y', label='Testing_data')\n",
        "plt.scatter(X_test,y_predictions, c='r', label='Predictions')\n",
        "plt.legend()\n",
        "plt.show()"
      ],
      "metadata": {
        "colab": {
          "base_uri": "https://localhost:8080/",
          "height": 430
        },
        "id": "1LR0lDPDiayh",
        "outputId": "64ee4ad2-7098-4af9-b9ed-4b072a5c36ae"
      },
      "execution_count": null,
      "outputs": [
        {
          "output_type": "display_data",
          "data": {
            "text/plain": [
              "<Figure size 640x480 with 1 Axes>"
            ],
            "image/png": "[encoded data removed]"
          },
          "metadata": {}
        }
      ]
    },
    {
      "cell_type": "code",
      "source": [
        "# Using evaluate method\n",
        "model.evaluate(X_test,y_test)"
      ],
      "metadata": {
        "colab": {
          "base_uri": "https://localhost:8080/"
        },
        "id": "DP2DQtyAiwuR",
        "outputId": "0d3f4b0b-9810-4d30-a89e-61c34b41c458"
      },
      "execution_count": null,
      "outputs": [
        {
          "output_type": "stream",
          "name": "stdout",
          "text": [
            "2/2 [==============================] - 0s 8ms/step - loss: 2.8886 - mae: 2.8886\n"
          ]
        },
        {
          "output_type": "execute_result",
          "data": {
            "text/plain": [
              "[2.8886115550994873, 2.8886115550994873]"
            ]
          },
          "metadata": {},
          "execution_count": 77
        }
      ]
    },
    {
      "cell_type": "code",
      "source": [
        "# Using MAE (Mean Absolute Error)\n",
        "mae = tf.metrics.mean_absolute_error(y_test, tf.squeeze(y_predictions))\n",
        "mae"
      ],
      "metadata": {
        "colab": {
          "base_uri": "https://localhost:8080/"
        },
        "id": "LBOaW0r3jDUF",
        "outputId": "2825cb8d-1d57-4c97-ea74-3feac1ed8a64"
      },
      "execution_count": null,
      "outputs": [
        {
          "output_type": "execute_result",
          "data": {
            "text/plain": [
              "<tf.Tensor: shape=(), dtype=float32, numpy=2.888612>"
            ]
          },
          "metadata": {},
          "execution_count": 78
        }
      ]
    },
    {
      "cell_type": "code",
      "source": [
        "y_predictions.shape #have as 2D"
      ],
      "metadata": {
        "colab": {
          "base_uri": "https://localhost:8080/"
        },
        "id": "zF_0JestjZzY",
        "outputId": "9ed3fe04-be76-468e-9ed5-eff91a9d896c"
      },
      "execution_count": null,
      "outputs": [
        {
          "output_type": "execute_result",
          "data": {
            "text/plain": [
              "(60, 1)"
            ]
          },
          "metadata": {},
          "execution_count": 79
        }
      ]
    },
    {
      "cell_type": "code",
      "source": [
        "y_test.shape #have as 1D"
      ],
      "metadata": {
        "colab": {
          "base_uri": "https://localhost:8080/"
        },
        "id": "sGwpG1DdjneU",
        "outputId": "321bfbee-567c-4513-8ed6-3fb2757689c6"
      },
      "execution_count": null,
      "outputs": [
        {
          "output_type": "execute_result",
          "data": {
            "text/plain": [
              "(60,)"
            ]
          },
          "metadata": {},
          "execution_count": 80
        }
      ]
    },
    {
      "cell_type": "code",
      "source": [
        "tf.squeeze(y_predictions).shape"
      ],
      "metadata": {
        "colab": {
          "base_uri": "https://localhost:8080/"
        },
        "id": "8RG9KIozjvnF",
        "outputId": "538a59d2-1d3b-4e25-bbcf-6311b1533678"
      },
      "execution_count": null,
      "outputs": [
        {
          "output_type": "execute_result",
          "data": {
            "text/plain": [
              "TensorShape([60])"
            ]
          },
          "metadata": {},
          "execution_count": 81
        }
      ]
    },
    {
      "cell_type": "code",
      "source": [
        "# Using MSE (Mean Squared Error)\n",
        "mse = tf.metrics.mean_squared_error(y_test, tf.squeeze(y_predictions))\n",
        "mse"
      ],
      "metadata": {
        "colab": {
          "base_uri": "https://localhost:8080/"
        },
        "id": "vi8RYqy8kATE",
        "outputId": "9374301c-1ea1-4cfa-ea4d-6218c1f565df"
      },
      "execution_count": null,
      "outputs": [
        {
          "output_type": "execute_result",
          "data": {
            "text/plain": [
              "<tf.Tensor: shape=(), dtype=float32, numpy=12.373055>"
            ]
          },
          "metadata": {},
          "execution_count": 82
        }
      ]
    },
    {
      "cell_type": "code",
      "source": [
        "x_range = range(1, epoch_number+1)\n",
        "loss = history.history['loss']\n",
        "plt.plot(x_range, loss)\n",
        "plt.xlabel('epoch')\n",
        "plt.ylabel('loss')\n",
        "plt.show()"
      ],
      "metadata": {
        "colab": {
          "base_uri": "https://localhost:8080/",
          "height": 453
        },
        "id": "ctHgnBZgkEnM",
        "outputId": "715dde0d-8255-493f-cf6d-a5366138849c"
      },
      "execution_count": null,
      "outputs": [
        {
          "output_type": "display_data",
          "data": {
            "text/plain": [
              "<Figure size 640x480 with 1 Axes>"
            ],
            "image/png": "[encoded data removed]"
          },
          "metadata": {}
        }
      ]
    },
    {
      "cell_type": "code",
      "source": [
        "history.history"
      ],
      "metadata": {
        "colab": {
          "base_uri": "https://localhost:8080/"
        },
        "id": "rEXOtG_ZlreO",
        "outputId": "1a49087f-e782-4259-f712-d99e016b4810"
      },
      "execution_count": null,
      "outputs": [
        {
          "output_type": "execute_result",
          "data": {
            "text/plain": [
              "{'loss': [57.51557540893555,\n",
              "  46.31955337524414,\n",
              "  34.71470642089844,\n",
              "  22.875486373901367,\n",
              "  11.313389778137207,\n",
              "  3.4379820823669434,\n",
              "  5.03537654876709,\n",
              "  2.842560291290283,\n",
              "  3.1256539821624756,\n",
              "  2.6714048385620117],\n",
              " 'mae': [57.51557540893555,\n",
              "  46.31955337524414,\n",
              "  34.71470642089844,\n",
              "  22.875486373901367,\n",
              "  11.313389778137207,\n",
              "  3.4379820823669434,\n",
              "  5.03537654876709,\n",
              "  2.842560291290283,\n",
              "  3.1256539821624756,\n",
              "  2.6714048385620117]}"
            ]
          },
          "metadata": {},
          "execution_count": 84
        }
      ]
    },
    {
      "cell_type": "markdown",
      "source": [
        "### **Model Weights and Baises**"
      ],
      "metadata": {
        "id": "3xHMk5XzmMA7"
      }
    },
    {
      "cell_type": "code",
      "source": [
        "# Let's see finalized weight values and bias values\n",
        "for layer in model.layers:\n",
        "    weights = layer.get_weights()[0]\n",
        "    biases = layer.get_weights()[1]\n",
        "    print(f\"\\nWeights:\\n {weights} \\nBiases:\\n {biases}\")"
      ],
      "metadata": {
        "colab": {
          "base_uri": "https://localhost:8080/"
        },
        "id": "MRraUhs3mJt_",
        "outputId": "88a25ed9-64af-411c-c311-bbb87b1d36d7"
      },
      "execution_count": null,
      "outputs": [
        {
          "output_type": "stream",
          "name": "stdout",
          "text": [
            "\n",
            "Weights:\n",
            " [[-0.4498282  -0.03973903 -0.60095644  0.02453338  0.14753868  0.27240583\n",
            "   0.55205184  0.14766265  0.3049465  -0.12888633  0.4506565   0.39493522\n",
            "   0.17654052  0.6098569 ]] \n",
            "Biases:\n",
            " [ 0.04085715  0.04149969 -0.04532066 -0.04096933 -0.04145866  0.04268565\n",
            " -0.03630065  0.04282976  0.04281573  0.04138929  0.04361992  0.04270272\n",
            " -0.04163114  0.01041296]\n",
            "\n",
            "Weights:\n",
            " [[-0.29707593 -0.18612911 -0.4940733  -0.22041051 -0.30836543 -0.3182361\n",
            "   0.01939946  0.24877182  0.09182207  0.09897386]\n",
            " [ 0.16244121 -0.0180939   0.08616768  0.4562955  -0.06926318 -0.14757712\n",
            "   0.18028815 -0.09982415  0.37139416 -0.07404021]\n",
            " [-0.2051236  -0.140933   -0.4414908   0.01114368  0.05298133 -0.19979455\n",
            "  -0.11728697  0.03229757  0.3835169  -0.17515534]\n",
            " [ 0.516193   -0.22839178 -0.1614651  -0.2707525   0.23107232  0.42360315\n",
            "  -0.0181897   0.0419361   0.04441036  0.13539796]\n",
            " [ 0.05851595  0.20266035  0.1452861   0.28595528  0.34306386 -0.15205584\n",
            "   0.02698848 -0.38710526 -0.10440088 -0.25728562]\n",
            " [-0.43615568 -0.00309853  0.4778641  -0.38282362 -0.5147271  -0.1178022\n",
            "  -0.386399    0.07591928 -0.01429234  0.15030913]\n",
            " [-0.20376685  0.06133895 -0.18253075  0.351957   -0.35774088  0.21930338\n",
            "   0.05948381 -0.06699479  0.4610944  -0.3549023 ]\n",
            " [ 0.3862142  -0.35669076  0.01898397  0.18176942 -0.5078507  -0.39798623\n",
            "   0.16377597  0.23529696  0.01770311 -0.41303998]\n",
            " [ 0.01989398  0.41129464  0.44298068  0.31098858 -0.51500803 -0.29002354\n",
            "   0.37790072  0.5144979   0.29928634 -0.35579535]\n",
            " [-0.04017065  0.01134722  0.24520029  0.40004662 -0.08607716 -0.00522312\n",
            "   0.00784235 -0.1183264   0.03097296 -0.00191064]\n",
            " [ 0.5347763   0.07328933  0.51744837  0.31350225  0.36434388 -0.19209974\n",
            "   0.32842717 -0.22688465  0.10183232  0.378103  ]\n",
            " [-0.24845758  0.16690174  0.15440825  0.32495296 -0.42405102  0.04666777\n",
            "  -0.01488468  0.17779645  0.24267165  0.32806474]\n",
            " [ 0.47984305  0.25965148 -0.4174196  -0.31515947  0.05751195 -0.3653249\n",
            "  -0.2732537   0.14890094  0.05151189 -0.38115013]\n",
            " [ 0.19315301 -0.07205464 -0.41659078 -0.39746594 -0.5302592   0.19443141\n",
            "   0.40241164 -0.35469425  0.52348465  0.31943387]] \n",
            "Biases:\n",
            " [ 0.04385299 -0.04199012  0.04226637  0.04234684 -0.04225584 -0.04183459\n",
            "  0.04253376  0.04199748  0.04246438  0.04181955]\n",
            "\n",
            "Weights:\n",
            " [[ 0.0752608 ]\n",
            " [-0.5478235 ]\n",
            " [ 0.71014065]\n",
            " [ 0.35195562]\n",
            " [-0.7752375 ]\n",
            " [-0.2849058 ]\n",
            " [ 0.23396865]\n",
            " [ 0.60650074]\n",
            " [ 0.28187686]\n",
            " [ 0.5872297 ]] \n",
            "Biases:\n",
            " [0.04214909]\n"
          ]
        }
      ]
    },
    {
      "cell_type": "markdown",
      "source": [],
      "metadata": {
        "id": "_Ec_Q--en3IL"
      }
    }
  ]
}